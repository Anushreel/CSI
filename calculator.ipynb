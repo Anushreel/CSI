{
 "cells": [
  {
   "cell_type": "markdown",
   "metadata": {},
   "source": [
    "Create a simple calculator which can perform simple arithmetic operations like add, subtract, division, multiplication etc."
   ]
  },
  {
   "cell_type": "code",
   "execution_count": 7,
   "metadata": {},
   "outputs": [],
   "source": [
    "def calculator (a,b,option):\n",
    "    if(option==\"+\"):\n",
    "        return a+b\n",
    "    elif(option==\"-\"):\n",
    "        return a-b\n",
    "    elif(option==\"*\"):\n",
    "        return a*b\n",
    "    elif(option==\"/\"):\n",
    "        return a/b\n",
    "    elif(option==\"%\"):\n",
    "        return a%b\n",
    "    elif(option==\"^\"):\n",
    "        return a**b\n",
    "    elif(option==\"//\"):\n",
    "        return a//b\n",
    "    else: return \"invalid\""
   ]
  },
  {
   "cell_type": "code",
   "execution_count": 8,
   "metadata": {},
   "outputs": [],
   "source": [
    "def main():\n",
    "    operater=input(\"Select the operator\\n1. '+' for Addition\\n2. '-' for Substraction\\n3. '*' for Multiplication \\n4. '/' for Division\\n5. '%' for Mod\\n6. '^' for Power\\n7. '/' for Integer Division \")\n",
    "    a=int(input(\"Enter the 1st oparend: \"))\n",
    "    b=int(input(\"Enter the 2nd operand: \"))\n",
    "    print(str(a)+\" \"+operater+\" \"+str(b)+\" : \")\n",
    "    print(calculator(a,b,operater))"
   ]
  },
  {
   "cell_type": "code",
   "execution_count": 9,
   "metadata": {},
   "outputs": [
    {
     "name": "stdout",
     "output_type": "stream",
     "text": [
      "3 + 6 : \n",
      "9\n"
     ]
    }
   ],
   "source": [
    "## ADDITION\n",
    "main()"
   ]
  },
  {
   "cell_type": "code",
   "execution_count": 10,
   "metadata": {},
   "outputs": [
    {
     "name": "stdout",
     "output_type": "stream",
     "text": [
      "8 - 6 : \n",
      "2\n"
     ]
    }
   ],
   "source": [
    "## SUBSTRACTION\n",
    "main()"
   ]
  },
  {
   "cell_type": "code",
   "execution_count": 15,
   "metadata": {},
   "outputs": [
    {
     "name": "stdout",
     "output_type": "stream",
     "text": [
      "6 * 9 : \n",
      "54\n"
     ]
    }
   ],
   "source": [
    "## MULTIPLICATION\n",
    "main()"
   ]
  },
  {
   "cell_type": "code",
   "execution_count": 16,
   "metadata": {},
   "outputs": [
    {
     "name": "stdout",
     "output_type": "stream",
     "text": [
      "9 / 3 : \n",
      "3.0\n"
     ]
    }
   ],
   "source": [
    "## DIVISION\n",
    "main()"
   ]
  },
  {
   "cell_type": "code",
   "execution_count": 17,
   "metadata": {},
   "outputs": [
    {
     "name": "stdout",
     "output_type": "stream",
     "text": [
      "45 % 5 : \n",
      "0\n"
     ]
    }
   ],
   "source": [
    "## MOD\n",
    "main()"
   ]
  },
  {
   "cell_type": "code",
   "execution_count": 18,
   "metadata": {},
   "outputs": [
    {
     "name": "stdout",
     "output_type": "stream",
     "text": [
      "56 ^ 3 : \n",
      "175616\n"
     ]
    }
   ],
   "source": [
    "## POWER\n",
    "main()"
   ]
  },
  {
   "cell_type": "code",
   "execution_count": 19,
   "metadata": {},
   "outputs": [
    {
     "name": "stdout",
     "output_type": "stream",
     "text": [
      "5 // 6 : \n",
      "0\n"
     ]
    }
   ],
   "source": [
    "## INTEGER DIVISION\n",
    "main()"
   ]
  },
  {
   "cell_type": "code",
   "execution_count": 20,
   "metadata": {},
   "outputs": [
    {
     "name": "stdout",
     "output_type": "stream",
     "text": [
      "6 u 7 : \n",
      "invalid\n"
     ]
    }
   ],
   "source": [
    "## INVALID\n",
    "main()"
   ]
  },
  {
   "cell_type": "code",
   "execution_count": null,
   "metadata": {},
   "outputs": [],
   "source": []
  }
 ],
 "metadata": {
  "kernelspec": {
   "display_name": "base",
   "language": "python",
   "name": "python3"
  },
  "language_info": {
   "codemirror_mode": {
    "name": "ipython",
    "version": 3
   },
   "file_extension": ".py",
   "mimetype": "text/x-python",
   "name": "python",
   "nbconvert_exporter": "python",
   "pygments_lexer": "ipython3",
   "version": "3.11.5"
  }
 },
 "nbformat": 4,
 "nbformat_minor": 2
}
